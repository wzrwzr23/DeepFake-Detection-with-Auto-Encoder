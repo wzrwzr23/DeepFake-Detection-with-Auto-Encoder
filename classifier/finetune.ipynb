{
 "cells": [
  {
   "cell_type": "code",
   "execution_count": null,
   "id": "3ba1f101-573e-4391-bad5-9714f7bdc35c",
   "metadata": {
    "collapsed": true,
    "jupyter": {
     "outputs_hidden": true
    },
    "scrolled": true
   },
   "outputs": [],
   "source": [
    "!pip install scikit-learn pandas datasets transformers torchvision evaluate accelerate"
   ]
  },
  {
   "cell_type": "markdown",
   "id": "4d363d24-00fb-4fa9-af92-1f75cd549397",
   "metadata": {},
   "source": [
    "# Load Xception Model for Transfer Learning"
   ]
  },
  {
   "cell_type": "code",
   "execution_count": 1,
   "id": "f86e15e3-42fe-4ae8-92f1-97c779983d8f",
   "metadata": {},
   "outputs": [],
   "source": [
    "!export TRANSFORMERS_VERBOSITY=error\n",
    "import torch\n",
    "from utils import xception, TransferModel, create_path_label_dataset, get_transforms, evaluate_model, DeepFakeDetector"
   ]
  },
  {
   "cell_type": "code",
   "execution_count": 2,
   "id": "fa5f2ba5-5540-4bdc-a6e9-9698bb3532b2",
   "metadata": {},
   "outputs": [],
   "source": [
    "old_model = xception()\n",
    "transforms = get_transforms(old_model)\n",
    "model = TransferModel(model=old_model,\n",
    "                             num_out_classes=2)\n",
    "\n",
    "device = torch.device(\"cuda\" if torch.cuda.is_available() else \"cpu\")\n",
    "model = model.to(device)"
   ]
  },
  {
   "cell_type": "markdown",
   "id": "b11cacef-3dec-4a61-a031-81bd13650b96",
   "metadata": {},
   "source": [
    "# Utils for Creating Finetuning Dataset"
   ]
  },
  {
   "cell_type": "code",
   "execution_count": 3,
   "id": "6192a0d6-2e2c-4d1d-83d3-6b0d026758c9",
   "metadata": {},
   "outputs": [],
   "source": [
    "transforms = get_transforms(old_model)\n",
    "labels = ['Real', 'Fake']\n",
    "\n",
    "def create_finetune_dataset(folder_true, folder_false):\n",
    "    dataset = create_path_label_dataset(folder_true, folder_false)\n",
    "    dataset = dataset.train_test_split(test_size=0.2)\n",
    "    dataset = dataset.with_transform(transforms)\n",
    "    return dataset"
   ]
  },
  {
   "cell_type": "markdown",
   "id": "ce903467-ddea-47b2-a905-cf6a08a64a97",
   "metadata": {},
   "source": [
    "# Trainer API for Convenient Training"
   ]
  },
  {
   "cell_type": "code",
   "execution_count": 6,
   "id": "3b101d87-5761-4e94-94ce-b8e9dc7fadfc",
   "metadata": {},
   "outputs": [],
   "source": [
    "import evaluate\n",
    "import numpy as np\n",
    "from transformers import TrainingArguments, Trainer, DefaultDataCollator\n",
    "\n",
    "accuracy = evaluate.load(\"accuracy\")\n",
    "def compute_metrics(eval_pred):\n",
    "    predictions, labels = eval_pred\n",
    "    predictions = np.argmax(predictions, axis=1)\n",
    "    return accuracy.compute(predictions=predictions, references=labels)"
   ]
  },
  {
   "cell_type": "markdown",
   "id": "bf226227-9533-4efe-9f2f-4166f6c80d2c",
   "metadata": {},
   "source": [
    "## Finetune Model Without DataAugmentation"
   ]
  },
  {
   "cell_type": "code",
   "execution_count": 9,
   "id": "b21cfcfa-7a76-4e0e-af37-fc5f62a4b21c",
   "metadata": {},
   "outputs": [
    {
     "name": "stderr",
     "output_type": "stream",
     "text": [
      "/opt/conda/lib/python3.11/site-packages/accelerate/accelerator.py:436: FutureWarning: Passing the following arguments to `Accelerator` is deprecated and will be removed in version 1.0 of Accelerate: dict_keys(['dispatch_batches', 'split_batches', 'even_batches', 'use_seedable_sampler']). Please pass an `accelerate.DataLoaderConfiguration` instead: \n",
      "dataloader_config = DataLoaderConfiguration(dispatch_batches=None, split_batches=False, even_batches=True, use_seedable_sampler=True)\n",
      "  warnings.warn(\n"
     ]
    },
    {
     "data": {
      "text/html": [
       "\n",
       "    <div>\n",
       "      \n",
       "      <progress value='124' max='124' style='width:300px; height:20px; vertical-align: middle;'></progress>\n",
       "      [124/124 11:20, Epoch 1/2]\n",
       "    </div>\n",
       "    <table border=\"1\" class=\"dataframe\">\n",
       "  <thead>\n",
       " <tr style=\"text-align: left;\">\n",
       "      <th>Epoch</th>\n",
       "      <th>Training Loss</th>\n",
       "      <th>Validation Loss</th>\n",
       "      <th>Accuracy</th>\n",
       "    </tr>\n",
       "  </thead>\n",
       "  <tbody>\n",
       "    <tr>\n",
       "      <td>0</td>\n",
       "      <td>0.167400</td>\n",
       "      <td>0.129588</td>\n",
       "      <td>0.973000</td>\n",
       "    </tr>\n",
       "    <tr>\n",
       "      <td>1</td>\n",
       "      <td>0.121200</td>\n",
       "      <td>0.079329</td>\n",
       "      <td>0.987000</td>\n",
       "    </tr>\n",
       "  </tbody>\n",
       "</table><p>"
      ],
      "text/plain": [
       "<IPython.core.display.HTML object>"
      ]
     },
     "metadata": {},
     "output_type": "display_data"
    },
    {
     "data": {
      "text/plain": [
       "TrainOutput(global_step=124, training_loss=0.2133740455873551, metrics={'train_runtime': 684.2005, 'train_samples_per_second': 11.692, 'train_steps_per_second': 0.181, 'total_flos': 0.0, 'train_loss': 0.2133740455873551, 'epoch': 1.98})"
      ]
     },
     "execution_count": 9,
     "metadata": {},
     "output_type": "execute_result"
    }
   ],
   "source": [
    "# Prepare for Finetuning Dataset\n",
    "folder_true = '/home/jovyan/shared/S25/nochange/true'\n",
    "folder_false = '/home/jovyan/shared/S25/nochange/false'\n",
    "\n",
    "dataset = create_finetune_dataset(folder_true, folder_false)\n",
    "\n",
    "# Training Configurations\n",
    "training_args = TrainingArguments(\n",
    "    output_dir=\"deepfake-unchanged\",\n",
    "    remove_unused_columns=False,\n",
    "    evaluation_strategy=\"epoch\",\n",
    "    save_strategy=\"epoch\",\n",
    "    learning_rate=5e-5,\n",
    "    per_device_train_batch_size=16,\n",
    "    gradient_accumulation_steps=4,\n",
    "    per_device_eval_batch_size=16,\n",
    "    num_train_epochs=2,\n",
    "    warmup_ratio=0.1,\n",
    "    logging_steps=10,\n",
    "    load_best_model_at_end=True,\n",
    "    metric_for_best_model=\"accuracy\",\n",
    "    push_to_hub=False,\n",
    ")\n",
    "\n",
    "# Trainer Setup\n",
    "trainer = Trainer(\n",
    "    model=model,\n",
    "    args=training_args,\n",
    "    data_collator=DefaultDataCollator(),\n",
    "    train_dataset=dataset[\"train\"],\n",
    "    eval_dataset=dataset[\"test\"],\n",
    "    compute_metrics=compute_metrics,\n",
    ")\n",
    "\n",
    "# Run Training\n",
    "trainer.train()"
   ]
  },
  {
   "cell_type": "markdown",
   "id": "8e69ad85-752b-4c96-9d8b-984c6955b024",
   "metadata": {},
   "source": [
    "## Finetune Model With DataAugmentation"
   ]
  },
  {
   "cell_type": "code",
   "execution_count": 10,
   "id": "3773a70b-b8bd-42fa-b931-d1d9d2f08112",
   "metadata": {},
   "outputs": [
    {
     "name": "stderr",
     "output_type": "stream",
     "text": [
      "/opt/conda/lib/python3.11/site-packages/accelerate/accelerator.py:436: FutureWarning: Passing the following arguments to `Accelerator` is deprecated and will be removed in version 1.0 of Accelerate: dict_keys(['dispatch_batches', 'split_batches', 'even_batches', 'use_seedable_sampler']). Please pass an `accelerate.DataLoaderConfiguration` instead: \n",
      "dataloader_config = DataLoaderConfiguration(dispatch_batches=None, split_batches=False, even_batches=True, use_seedable_sampler=True)\n",
      "  warnings.warn(\n"
     ]
    },
    {
     "data": {
      "text/html": [
       "\n",
       "    <div>\n",
       "      \n",
       "      <progress value='124' max='124' style='width:300px; height:20px; vertical-align: middle;'></progress>\n",
       "      [124/124 10:45, Epoch 1/2]\n",
       "    </div>\n",
       "    <table border=\"1\" class=\"dataframe\">\n",
       "  <thead>\n",
       " <tr style=\"text-align: left;\">\n",
       "      <th>Epoch</th>\n",
       "      <th>Training Loss</th>\n",
       "      <th>Validation Loss</th>\n",
       "      <th>Accuracy</th>\n",
       "    </tr>\n",
       "  </thead>\n",
       "  <tbody>\n",
       "    <tr>\n",
       "      <td>0</td>\n",
       "      <td>0.035300</td>\n",
       "      <td>0.049969</td>\n",
       "      <td>0.984000</td>\n",
       "    </tr>\n",
       "    <tr>\n",
       "      <td>1</td>\n",
       "      <td>0.062100</td>\n",
       "      <td>0.030726</td>\n",
       "      <td>0.995000</td>\n",
       "    </tr>\n",
       "  </tbody>\n",
       "</table><p>"
      ],
      "text/plain": [
       "<IPython.core.display.HTML object>"
      ]
     },
     "metadata": {},
     "output_type": "display_data"
    },
    {
     "data": {
      "text/plain": [
       "TrainOutput(global_step=124, training_loss=0.055367469787597656, metrics={'train_runtime': 649.4912, 'train_samples_per_second': 12.317, 'train_steps_per_second': 0.191, 'total_flos': 0.0, 'train_loss': 0.055367469787597656, 'epoch': 1.98})"
      ]
     },
     "execution_count": 10,
     "metadata": {},
     "output_type": "execute_result"
    }
   ],
   "source": [
    "# Prepare for Finetuning Dataset\n",
    "folder_true = '/home/jovyan/shared/S25/nochange/true'\n",
    "folder_false = '/home/jovyan/shared/S25/nochange/false'\n",
    "\n",
    "dataset = create_finetune_dataset(folder_true, folder_false)\n",
    "\n",
    "# Training Configurations\n",
    "training_args = TrainingArguments(\n",
    "    output_dir=\"deepfake-changed\",\n",
    "    remove_unused_columns=False,\n",
    "    evaluation_strategy=\"epoch\",\n",
    "    save_strategy=\"epoch\",\n",
    "    learning_rate=5e-5,\n",
    "    per_device_train_batch_size=16,\n",
    "    gradient_accumulation_steps=4,\n",
    "    per_device_eval_batch_size=16,\n",
    "    num_train_epochs=2,\n",
    "    warmup_ratio=0.1,\n",
    "    logging_steps=10,\n",
    "    load_best_model_at_end=True,\n",
    "    metric_for_best_model=\"accuracy\",\n",
    "    push_to_hub=False,\n",
    ")\n",
    "\n",
    "# Trainer Setup\n",
    "trainer = Trainer(\n",
    "    model=model,\n",
    "    args=training_args,\n",
    "    data_collator=DefaultDataCollator(),\n",
    "    train_dataset=dataset[\"train\"],\n",
    "    eval_dataset=dataset[\"test\"],\n",
    "    compute_metrics=compute_metrics,\n",
    ")\n",
    "\n",
    "# Run Training\n",
    "trainer.train()"
   ]
  },
  {
   "cell_type": "markdown",
   "id": "14a087a7-fbc5-46f0-8296-fc78a27fe9df",
   "metadata": {},
   "source": [
    "# Evaluation "
   ]
  },
  {
   "cell_type": "code",
   "execution_count": 4,
   "id": "9e620b46-5219-4cd0-8523-055744749cd3",
   "metadata": {},
   "outputs": [],
   "source": [
    "import evaluate\n",
    "import numpy as np\n",
    "\n",
    "accuracy = evaluate.load(\"accuracy\")\n",
    "def compute_metrics(eval_pred):\n",
    "    predictions, labels = eval_pred\n",
    "    predictions = np.argmax(predictions, axis=1)\n",
    "    return accuracy.compute(predictions=predictions, references=labels)\n",
    "from utils import xception_from_tensors"
   ]
  },
  {
   "cell_type": "markdown",
   "id": "625c9f2c-93b1-432d-8339-d624cf95d9d5",
   "metadata": {},
   "source": [
    "## Model With Data Augmentation"
   ]
  },
  {
   "cell_type": "markdown",
   "id": "8c7a3274-4270-4ae1-85a0-7312a8a6e91d",
   "metadata": {},
   "source": [
    "####  Original Finetuning Dataset"
   ]
  },
  {
   "cell_type": "code",
   "execution_count": 5,
   "id": "3313f1ea",
   "metadata": {
    "scrolled": true
   },
   "outputs": [
    {
     "name": "stderr",
     "output_type": "stream",
     "text": [
      "/home/renhangx/.local/lib/python3.10/site-packages/accelerate/accelerator.py:436: FutureWarning: Passing the following arguments to `Accelerator` is deprecated and will be removed in version 1.0 of Accelerate: dict_keys(['dispatch_batches', 'split_batches', 'even_batches', 'use_seedable_sampler']). Please pass an `accelerate.DataLoaderConfiguration` instead: \n",
      "dataloader_config = DataLoaderConfiguration(dispatch_batches=None, split_batches=False, even_batches=True, use_seedable_sampler=True)\n",
      "  warnings.warn(\n"
     ]
    },
    {
     "data": {
      "text/html": [
       "\n",
       "    <div>\n",
       "      \n",
       "      <progress value='25' max='25' style='width:300px; height:20px; vertical-align: middle;'></progress>\n",
       "      [25/25 01:23]\n",
       "    </div>\n",
       "    "
      ],
      "text/plain": [
       "<IPython.core.display.HTML object>"
      ]
     },
     "metadata": {},
     "output_type": "display_data"
    },
    {
     "data": {
      "text/plain": [
       "{'eval_loss': 0.0817825123667717,\n",
       " 'eval_accuracy': 0.98,\n",
       " 'eval_runtime': 90.4352,\n",
       " 'eval_samples_per_second': 2.212,\n",
       " 'eval_steps_per_second': 0.276}"
      ]
     },
     "execution_count": 5,
     "metadata": {},
     "output_type": "execute_result"
    }
   ],
   "source": [
    "model = xception_from_tensors('checkpoints/changed-model.safetensors')\n",
    "\n",
    "base_path = '/mnt/c/Users/28379/OneDrive/Desktop/AI/proj/Datasets'\n",
    "folder_true = base_path + '/Training2500/With_Augmentation/TrainingReal2500'\n",
    "folder_false = base_path + '/Training2500/With_Augmentation/TrainingFake2500'\n",
    "\n",
    "test_ds = create_path_label_dataset(folder_true, folder_false, n=200).with_transform(transforms)    \n",
    "evaluate_model(model, test_ds, compute_metrics)"
   ]
  },
  {
   "cell_type": "markdown",
   "id": "3ea5a261-e363-4d7d-828a-0c4ce45484c9",
   "metadata": {},
   "source": [
    "#### Celeb-DF Dataset"
   ]
  },
  {
   "cell_type": "code",
   "execution_count": 7,
   "id": "d4a638c0",
   "metadata": {},
   "outputs": [
    {
     "name": "stdout",
     "output_type": "stream",
     "text": [
      "{'eval_loss': 0.9286133050918579, 'eval_accuracy': 0.45, 'eval_runtime': 73.4797, 'eval_samples_per_second': 2.722, 'eval_steps_per_second': 0.34}\n"
     ]
    },
    {
     "data": {
      "text/plain": [
       "{'eval_loss': 0.9286133050918579,\n",
       " 'eval_accuracy': 0.45,\n",
       " 'eval_runtime': 73.4797,\n",
       " 'eval_samples_per_second': 2.722,\n",
       " 'eval_steps_per_second': 0.34}"
      ]
     },
     "execution_count": 7,
     "metadata": {},
     "output_type": "execute_result"
    }
   ],
   "source": [
    "model = xception_from_tensors('checkpoints/changed-model.safetensors')\n",
    "\n",
    "base_path = '/mnt/c/Users/28379/OneDrive/Desktop/AI/proj/Datasets'\n",
    "folder_true = base_path + '/ValidationCeleb/Real1000'\n",
    "folder_false = base_path + '/ValidationCeleb/Fake1000'\n",
    "\n",
    "test_ds = create_path_label_dataset(folder_true, folder_false, n=200).with_transform(transforms)    \n",
    "evaluate_model(model, test_ds, compute_metrics)"
   ]
  },
  {
   "cell_type": "markdown",
   "id": "2a42342a-fc04-45f9-9619-78def46208c3",
   "metadata": {},
   "source": [
    "#### DeepFakeMNIST+ Dataset"
   ]
  },
  {
   "cell_type": "code",
   "execution_count": 6,
   "id": "7bd04116",
   "metadata": {
    "scrolled": true
   },
   "outputs": [
    {
     "name": "stderr",
     "output_type": "stream",
     "text": [
      "/home/renhangx/.local/lib/python3.10/site-packages/accelerate/accelerator.py:436: FutureWarning: Passing the following arguments to `Accelerator` is deprecated and will be removed in version 1.0 of Accelerate: dict_keys(['dispatch_batches', 'split_batches', 'even_batches', 'use_seedable_sampler']). Please pass an `accelerate.DataLoaderConfiguration` instead: \n",
      "dataloader_config = DataLoaderConfiguration(dispatch_batches=None, split_batches=False, even_batches=True, use_seedable_sampler=True)\n",
      "  warnings.warn(\n"
     ]
    },
    {
     "data": {
      "text/html": [
       "\n",
       "    <div>\n",
       "      \n",
       "      <progress value='25' max='25' style='width:300px; height:20px; vertical-align: middle;'></progress>\n",
       "      [25/25 00:56]\n",
       "    </div>\n",
       "    "
      ],
      "text/plain": [
       "<IPython.core.display.HTML object>"
      ]
     },
     "metadata": {},
     "output_type": "display_data"
    },
    {
     "data": {
      "text/plain": [
       "{'eval_loss': 0.7522754073143005,\n",
       " 'eval_accuracy': 0.515,\n",
       " 'eval_runtime': 59.6124,\n",
       " 'eval_samples_per_second': 3.355,\n",
       " 'eval_steps_per_second': 0.419}"
      ]
     },
     "execution_count": 6,
     "metadata": {},
     "output_type": "execute_result"
    }
   ],
   "source": [
    "model = xception_from_tensors('checkpoints/changed-model.safetensors')\n",
    "\n",
    "base_path = '/mnt/c/Users/28379/OneDrive/Desktop/AI/proj/Datasets'\n",
    "folder_true = base_path + '/ValidationMNIST+/Real1000'\n",
    "folder_false = base_path + '/ValidationMNIST+/Fake1000'\n",
    "\n",
    "test_ds = create_path_label_dataset(folder_true, folder_false, n=200).with_transform(transforms)    \n",
    "evaluate_model(model, test_ds, compute_metrics)"
   ]
  },
  {
   "cell_type": "markdown",
   "id": "81dd8f31-8ea7-4119-879c-9abc60069abb",
   "metadata": {},
   "source": [
    "## Model Without Data Augementation"
   ]
  },
  {
   "cell_type": "markdown",
   "id": "681ac6d5-f407-49ea-bdfa-930cce8021f9",
   "metadata": {},
   "source": [
    "####  Original Finetuning Dataset"
   ]
  },
  {
   "cell_type": "code",
   "execution_count": 6,
   "id": "6ab33c91",
   "metadata": {
    "scrolled": true
   },
   "outputs": [
    {
     "name": "stderr",
     "output_type": "stream",
     "text": [
      "/home/renhangx/.local/lib/python3.10/site-packages/accelerate/accelerator.py:436: FutureWarning: Passing the following arguments to `Accelerator` is deprecated and will be removed in version 1.0 of Accelerate: dict_keys(['dispatch_batches', 'split_batches', 'even_batches', 'use_seedable_sampler']). Please pass an `accelerate.DataLoaderConfiguration` instead: \n",
      "dataloader_config = DataLoaderConfiguration(dispatch_batches=None, split_batches=False, even_batches=True, use_seedable_sampler=True)\n",
      "  warnings.warn(\n"
     ]
    },
    {
     "data": {
      "text/html": [
       "\n",
       "    <div>\n",
       "      \n",
       "      <progress value='25' max='25' style='width:300px; height:20px; vertical-align: middle;'></progress>\n",
       "      [25/25 02:04]\n",
       "    </div>\n",
       "    "
      ],
      "text/plain": [
       "<IPython.core.display.HTML object>"
      ]
     },
     "metadata": {},
     "output_type": "display_data"
    },
    {
     "data": {
      "text/plain": [
       "{'eval_loss': 0.026446111500263214,\n",
       " 'eval_accuracy': 0.995,\n",
       " 'eval_runtime': 136.366,\n",
       " 'eval_samples_per_second': 1.467,\n",
       " 'eval_steps_per_second': 0.183}"
      ]
     },
     "execution_count": 6,
     "metadata": {},
     "output_type": "execute_result"
    }
   ],
   "source": [
    "model = xception_from_tensors('checkpoints/unchanged-model.safetensors')\n",
    "\n",
    "base_path = '/mnt/c/Users/28379/OneDrive/Desktop/AI/proj/Datasets'\n",
    "folder_true = base_path + '/Training2500/Without_Augmentation/TrainingReal2500'\n",
    "folder_false = base_path + '/Training2500/Without_Augmentation/TrainingFake2500'\n",
    "\n",
    "test_ds = create_path_label_dataset(folder_true, folder_false, n=200).with_transform(transforms)    \n",
    "evaluate_model(model, test_ds, compute_metrics)"
   ]
  },
  {
   "cell_type": "markdown",
   "id": "46d7da2b-a7f1-46ba-84c3-bddf68e4a147",
   "metadata": {},
   "source": [
    "#### Celeb-DF Dataset"
   ]
  },
  {
   "cell_type": "code",
   "execution_count": 7,
   "id": "797571a2",
   "metadata": {},
   "outputs": [
    {
     "name": "stderr",
     "output_type": "stream",
     "text": [
      "/home/renhangx/.local/lib/python3.10/site-packages/accelerate/accelerator.py:436: FutureWarning: Passing the following arguments to `Accelerator` is deprecated and will be removed in version 1.0 of Accelerate: dict_keys(['dispatch_batches', 'split_batches', 'even_batches', 'use_seedable_sampler']). Please pass an `accelerate.DataLoaderConfiguration` instead: \n",
      "dataloader_config = DataLoaderConfiguration(dispatch_batches=None, split_batches=False, even_batches=True, use_seedable_sampler=True)\n",
      "  warnings.warn(\n"
     ]
    },
    {
     "data": {
      "text/html": [
       "\n",
       "    <div>\n",
       "      \n",
       "      <progress value='25' max='25' style='width:300px; height:20px; vertical-align: middle;'></progress>\n",
       "      [25/25 01:19]\n",
       "    </div>\n",
       "    "
      ],
      "text/plain": [
       "<IPython.core.display.HTML object>"
      ]
     },
     "metadata": {},
     "output_type": "display_data"
    },
    {
     "data": {
      "text/plain": [
       "{'eval_loss': 1.980319857597351,\n",
       " 'eval_accuracy': 0.56,\n",
       " 'eval_runtime': 83.7656,\n",
       " 'eval_samples_per_second': 2.388,\n",
       " 'eval_steps_per_second': 0.298}"
      ]
     },
     "execution_count": 7,
     "metadata": {},
     "output_type": "execute_result"
    }
   ],
   "source": [
    "model = xception_from_tensors('checkpoints/unchanged-model.safetensors')\n",
    "\n",
    "base_path = '/mnt/c/Users/28379/OneDrive/Desktop/AI/proj/Datasets'\n",
    "folder_true = base_path + '/ValidationCeleb/Real1000'\n",
    "folder_false = base_path + '/ValidationCeleb/Fake1000'\n",
    "\n",
    "test_ds = create_path_label_dataset(folder_true, folder_false, n=200).with_transform(transforms)    \n",
    "evaluate_model(model, test_ds, compute_metrics)"
   ]
  },
  {
   "cell_type": "markdown",
   "id": "d57e5ee5-3d0a-4153-b415-16506fc0ce3b",
   "metadata": {},
   "source": [
    "#### DeepFakeMNIST+ Dataset"
   ]
  },
  {
   "cell_type": "code",
   "execution_count": 12,
   "id": "5a081ae7",
   "metadata": {},
   "outputs": [
    {
     "name": "stderr",
     "output_type": "stream",
     "text": [
      "/home/renhangx/.local/lib/python3.10/site-packages/accelerate/accelerator.py:436: FutureWarning: Passing the following arguments to `Accelerator` is deprecated and will be removed in version 1.0 of Accelerate: dict_keys(['dispatch_batches', 'split_batches', 'even_batches', 'use_seedable_sampler']). Please pass an `accelerate.DataLoaderConfiguration` instead: \n",
      "dataloader_config = DataLoaderConfiguration(dispatch_batches=None, split_batches=False, even_batches=True, use_seedable_sampler=True)\n",
      "  warnings.warn(\n"
     ]
    },
    {
     "data": {
      "text/html": [
       "\n",
       "    <div>\n",
       "      \n",
       "      <progress value='25' max='25' style='width:300px; height:20px; vertical-align: middle;'></progress>\n",
       "      [25/25 01:45]\n",
       "    </div>\n",
       "    "
      ],
      "text/plain": [
       "<IPython.core.display.HTML object>"
      ]
     },
     "metadata": {},
     "output_type": "display_data"
    },
    {
     "data": {
      "text/plain": [
       "{'eval_loss': 1.5682590007781982,\n",
       " 'eval_accuracy': 0.565,\n",
       " 'eval_runtime': 109.9382,\n",
       " 'eval_samples_per_second': 1.819,\n",
       " 'eval_steps_per_second': 0.227}"
      ]
     },
     "execution_count": 12,
     "metadata": {},
     "output_type": "execute_result"
    }
   ],
   "source": [
    "model = xception_from_tensors('checkpoints/unchanged-model.safetensors')\n",
    "\n",
    "base_path = '/mnt/c/Users/28379/OneDrive/Desktop/AI/proj/Datasets'\n",
    "folder_true = base_path + '/ValidationMNIST+/Real1000'\n",
    "folder_false = base_path + '/ValidationMNIST+/Fake1000'\n",
    "\n",
    "test_ds = create_path_label_dataset(folder_true, folder_false, n=200).with_transform(transforms)    \n",
    "evaluate_model(model, test_ds, compute_metrics)"
   ]
  }
 ],
 "metadata": {
  "kernelspec": {
   "display_name": "Python 3 (ipykernel)",
   "language": "python",
   "name": "python3"
  },
  "language_info": {
   "codemirror_mode": {
    "name": "ipython",
    "version": 3
   },
   "file_extension": ".py",
   "mimetype": "text/x-python",
   "name": "python",
   "nbconvert_exporter": "python",
   "pygments_lexer": "ipython3",
   "version": "3.10.12"
  }
 },
 "nbformat": 4,
 "nbformat_minor": 5
}
